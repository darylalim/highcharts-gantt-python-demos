{
 "cells": [
  {
   "cell_type": "markdown",
   "id": "085034b4-0d83-4c2b-8b2a-d123cfa82446",
   "metadata": {},
   "source": [
    "# Progress indicator\n",
    "This notebook demonstrates assembling a basic Gantt chart with progress indicators."
   ]
  },
  {
   "cell_type": "markdown",
   "id": "79193a65-ad7a-4e73-8c37-a8c81bbacd76",
   "metadata": {},
   "source": [
    "## Import Dependencies"
   ]
  },
  {
   "cell_type": "code",
   "execution_count": null,
   "id": "6c2c5355-e40a-44e6-ba6e-4269818a4316",
   "metadata": {},
   "outputs": [],
   "source": [
    "from highcharts_gantt.chart import Chart\n",
    "from highcharts_gantt.options.series.gantt import GanttSeries\n",
    "import datetime"
   ]
  },
  {
   "cell_type": "markdown",
   "id": "cbad4ca8-6538-45a6-8829-6da7ebf8707b",
   "metadata": {},
   "source": [
    "## Configure Options"
   ]
  },
  {
   "cell_type": "code",
   "execution_count": null,
   "id": "c9c83903-99d1-4b17-86b2-5f4ee371e6aa",
   "metadata": {},
   "outputs": [],
   "source": [
    "options_as_dict = {\n",
    "    'title': {\n",
    "        'text': 'Gantt Chart with Progress Indicators',\n",
    "        'align': 'left'\n",
    "    },\n",
    "\n",
    "    'xAxis': {\n",
    "        'min': datetime.date(2014, 11, 17),\n",
    "        'max': datetime.date(2014, 11, 30)\n",
    "    },\n",
    "\n",
    "    'accessibility': {\n",
    "        'point': {\n",
    "            'descriptionFormat': '{yCategory}. {#if completed}Task {(multiply completed.amount 100):.1f}% completed. {/if}Start {x:%Y-%m-%d}, end {x2:%Y-%m-%d}.' \n",
    "        }\n",
    "    },\n",
    "\n",
    "    'lang': {\n",
    "        'accessibility': {\n",
    "            'axis': {\n",
    "                'xAxisDescriptionPlural': 'The chart has a two-part X axis showing time in both week numbers and days.'\n",
    "            }\n",
    "        }\n",
    "    },\n",
    "\n",
    "    'series': [{\n",
    "        'type': 'gantt',\n",
    "        'name': 'Project 1',\n",
    "        'data': [{\n",
    "            'name': 'Start prototype',\n",
    "            'start': datetime.date(2014, 11, 18),\n",
    "            'end': datetime.date(2014, 11, 25),\n",
    "            'completed': 0.25\n",
    "        }, {\n",
    "            'name': 'Test prototype',\n",
    "            'start': datetime.date(2014, 11, 27),\n",
    "            'end': datetime.date(2014, 11, 29)\n",
    "        }, {\n",
    "            'name': 'Develop',\n",
    "            'start': datetime.date(2014, 11, 20),\n",
    "            'end': datetime.date(2014, 11, 25),\n",
    "            'completed': {\n",
    "                'amount': 0.12,\n",
    "                'fill': '#fa0'\n",
    "            }\n",
    "        }, {\n",
    "            'name': 'Run acceptance tests',\n",
    "            'start': datetime.date(2014, 11, 23),\n",
    "            'end': datetime.date(2014, 11, 26)\n",
    "        }]\n",
    "    }]\n",
    "}"
   ]
  },
  {
   "cell_type": "markdown",
   "id": "f575f6d0-16fc-4568-8faa-7c58d3c3b6e8",
   "metadata": {},
   "source": [
    "## Assemble Chart and Options"
   ]
  },
  {
   "cell_type": "code",
   "execution_count": null,
   "id": "86933c0e-85fc-4b06-a996-d81d5166a196",
   "metadata": {},
   "outputs": [],
   "source": [
    "chart = Chart.from_options(options_as_dict, chart_kwargs = {'is_gantt_chart': True})"
   ]
  },
  {
   "cell_type": "markdown",
   "id": "27360bb2-388b-41f1-ae7c-fae5c096ffd5",
   "metadata": {},
   "source": [
    "## Render Visualization"
   ]
  },
  {
   "cell_type": "code",
   "execution_count": null,
   "id": "43f4325d-d9eb-4c91-b6c8-ec483efb51e9",
   "metadata": {
    "tags": []
   },
   "outputs": [],
   "source": [
    "chart.display()"
   ]
  },
  {
   "cell_type": "code",
   "execution_count": null,
   "id": "926fdce2-e476-46d4-9b11-aaa8ca7086f9",
   "metadata": {},
   "outputs": [],
   "source": []
  }
 ],
 "metadata": {
  "kernelspec": {
   "display_name": "Python 3 (ipykernel)",
   "language": "python",
   "name": "python3"
  },
  "language_info": {
   "codemirror_mode": {
    "name": "ipython",
    "version": 3
   },
   "file_extension": ".py",
   "mimetype": "text/x-python",
   "name": "python",
   "nbconvert_exporter": "python",
   "pygments_lexer": "ipython3",
   "version": "3.11.9"
  }
 },
 "nbformat": 4,
 "nbformat_minor": 5
}
